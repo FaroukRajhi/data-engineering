{
 "cells": [
  {
   "cell_type": "code",
   "execution_count": 7,
   "id": "2f79b472-fec2-489c-b0f3-e9c55634c5ee",
   "metadata": {},
   "outputs": [
    {
     "name": "stdout",
     "output_type": "stream",
     "text": [
      "pop\n"
     ]
    }
   ],
   "source": [
    "NT = (1,2,(\"pop\",\"rock\"),(3,4))\n",
    "print(NT[2][0])"
   ]
  },
  {
   "cell_type": "code",
   "execution_count": null,
   "id": "ae02bd37-caf6-4ca4-a7a4-afacf70002df",
   "metadata": {},
   "outputs": [],
   "source": []
  }
 ],
 "metadata": {
  "kernelspec": {
   "display_name": "Python 3 (ipykernel)",
   "language": "python",
   "name": "python3"
  },
  "language_info": {
   "codemirror_mode": {
    "name": "ipython",
    "version": 3
   },
   "file_extension": ".py",
   "mimetype": "text/x-python",
   "name": "python",
   "nbconvert_exporter": "python",
   "pygments_lexer": "ipython3",
   "version": "3.10.12"
  }
 },
 "nbformat": 4,
 "nbformat_minor": 5
}
