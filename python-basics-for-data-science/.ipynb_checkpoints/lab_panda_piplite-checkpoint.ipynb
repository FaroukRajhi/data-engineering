{
 "cells": [
  {
   "cell_type": "code",
   "execution_count": 1,
   "id": "e8b9c07f-4b10-4626-9504-100513d613b5",
   "metadata": {},
   "outputs": [
    {
     "ename": "ModuleNotFoundError",
     "evalue": "No module named 'piplite'",
     "output_type": "error",
     "traceback": [
      "\u001b[0;31m---------------------------------------------------------------------------\u001b[0m",
      "\u001b[0;31mModuleNotFoundError\u001b[0m                       Traceback (most recent call last)",
      "Cell \u001b[0;32mIn[1], line 1\u001b[0m\n\u001b[0;32m----> 1\u001b[0m \u001b[38;5;28;01mimport\u001b[39;00m \u001b[38;5;21;01mpiplite\u001b[39;00m\n\u001b[1;32m      2\u001b[0m \u001b[38;5;124;03m\"\"\"\u001b[39;00m\n\u001b[1;32m      3\u001b[0m \u001b[38;5;124;03mawait: This keyword is used with asynchronous functions.\u001b[39;00m\n\u001b[1;32m      4\u001b[0m \u001b[38;5;124;03mIn JupyterLite, installing packages might happen in the background, so await tells the code to wait for the installation to finish before continuing.\u001b[39;00m\n\u001b[1;32m      5\u001b[0m \u001b[38;5;124;03m\"\"\"\u001b[39;00m\n\u001b[1;32m      7\u001b[0m \u001b[38;5;124;03m\"\"\"\u001b[39;00m\n\u001b[1;32m      8\u001b[0m \u001b[38;5;124;03mawait: This keyword is used with asynchronous functions. \u001b[39;00m\n\u001b[1;32m      9\u001b[0m \u001b[38;5;124;03mIn JupyterLite, installing packages might happen in the background,\u001b[39;00m\n\u001b[0;32m   (...)\u001b[0m\n\u001b[1;32m     12\u001b[0m \u001b[38;5;124;03mseaborn (for data visualization), lxml (for XML processing), and openpyxl (for reading and writing Excel files).\u001b[39;00m\n\u001b[1;32m     13\u001b[0m \u001b[38;5;124;03m\"\"\"\u001b[39;00m\n",
      "\u001b[0;31mModuleNotFoundError\u001b[0m: No module named 'piplite'"
     ]
    }
   ],
   "source": [
    "import piplite\n",
    "\"\"\"\n",
    "await: This keyword is used with asynchronous functions.\n",
    "In JupyterLite, installing packages might happen in the background, so await tells the code to wait for the installation to finish before continuing.\n",
    "\"\"\"\n",
    "\n",
    "\"\"\"\n",
    "await: This keyword is used with asynchronous functions. \n",
    "In JupyterLite, installing packages might happen in the background,\n",
    "so await tells the code to wait for the installation to finish before continuing.\n",
    "['seaborn', 'lxml', 'openpyxl']: This is a list containing the names of three Python packages: \n",
    "seaborn (for data visualization), lxml (for XML processing), and openpyxl (for reading and writing Excel files).\n",
    "\"\"\"\n",
    "await piplite.install(['seaborn','lxml','openpyxl'])\n",
    "\n",
    "import pandas as pd\n",
    "filename = \"https://cf-courses-data.s3.us.cloud-object-storage.appdomain.cloud/IBMDeveloperSkillsNetwork-PY0101EN-SkillsNetwork/labs/Module%205/data/addresses.csv\"\n",
    "async def download(url,filename):\n",
    "    response = await pyfetch(url)\n",
    "    if response.status == 200:\n",
    "        with open(filename, \"wb\") as f:\n",
    "            f.write(await response.bytes())\n",
    "await download(filename, \"addresses.csv\")\n",
    "df = pd.read_csv(\"addresses.csv\", header=None)"
   ]
  },
  {
   "cell_type": "code",
   "execution_count": null,
   "id": "f39774e5-4db0-4744-afdd-8bf43bd07ccb",
   "metadata": {},
   "outputs": [],
   "source": []
  }
 ],
 "metadata": {
  "kernelspec": {
   "display_name": "Python 3 (ipykernel)",
   "language": "python",
   "name": "python3"
  },
  "language_info": {
   "codemirror_mode": {
    "name": "ipython",
    "version": 3
   },
   "file_extension": ".py",
   "mimetype": "text/x-python",
   "name": "python",
   "nbconvert_exporter": "python",
   "pygments_lexer": "ipython3",
   "version": "3.10.12"
  }
 },
 "nbformat": 4,
 "nbformat_minor": 5
}
