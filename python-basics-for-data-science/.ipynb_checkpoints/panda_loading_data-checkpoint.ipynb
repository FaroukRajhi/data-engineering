{
 "cells": [
  {
   "cell_type": "code",
   "execution_count": null,
   "id": "0bad4425-54d7-4e24-9f3c-6579247a7150",
   "metadata": {},
   "outputs": [],
   "source": [
    "import pandas\n",
    "\n",
    "csv_path = 'exercise03_car_sales_data.csv'\n",
    "\n",
    "df = pandas.read_csv(csv_path)"
   ]
  }
 ],
 "metadata": {
  "kernelspec": {
   "display_name": "Python 3 (ipykernel)",
   "language": "python",
   "name": "python3"
  },
  "language_info": {
   "codemirror_mode": {
    "name": "ipython",
    "version": 3
   },
   "file_extension": ".py",
   "mimetype": "text/x-python",
   "name": "python",
   "nbconvert_exporter": "python",
   "pygments_lexer": "ipython3",
   "version": "3.10.12"
  }
 },
 "nbformat": 4,
 "nbformat_minor": 5
}
